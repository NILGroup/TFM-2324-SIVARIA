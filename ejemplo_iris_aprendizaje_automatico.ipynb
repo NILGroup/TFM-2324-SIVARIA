{
 "cells": [
  {
   "cell_type": "markdown",
   "id": "877dd3a0",
   "metadata": {},
   "source": [
    "Fuente del ejemplo: \n",
    "\n",
    "https://dcain.etsin.upm.es/~carlos/bookAA/02.3MetodosdeClasificacion-Ratioseindicadores.html"
   ]
  },
  {
   "cell_type": "markdown",
   "id": "5f33d664",
   "metadata": {},
   "source": [
    "Usaremos un dataset de ejemplo de la librería scikit-learn. \n",
    "\n",
    "En este caso, el ejemplo trata sobre la información de los iris de varios usuarios. Para nuestro proyecto, sería necesario saber la estructura de la tabla y de las columnas que hay en la base de datos de SIVARIA para realizar este proceso.\n",
    "\n",
    "Cuenta con 5 columnas, de las cuáles las 4 primeras son las características, y la última será la clasificación objetivo, es decir, que será la columna que se usará para hacer la clasificación. La última columna va a tener valores 0, 1 o 2. \n",
    "\n",
    "Extraemos toda la información del dataset y lo guardamos en un dataframe de la librería *Pandas*. El contenido del dataframe es el siguiente:"
   ]
  },
  {
   "cell_type": "code",
   "execution_count": 3,
   "id": "3fc52d4d",
   "metadata": {},
   "outputs": [
    {
     "data": {
      "text/html": [
       "<div>\n",
       "<style scoped>\n",
       "    .dataframe tbody tr th:only-of-type {\n",
       "        vertical-align: middle;\n",
       "    }\n",
       "\n",
       "    .dataframe tbody tr th {\n",
       "        vertical-align: top;\n",
       "    }\n",
       "\n",
       "    .dataframe thead th {\n",
       "        text-align: right;\n",
       "    }\n",
       "</style>\n",
       "<table border=\"1\" class=\"dataframe\">\n",
       "  <thead>\n",
       "    <tr style=\"text-align: right;\">\n",
       "      <th></th>\n",
       "      <th>sepal length (cm)</th>\n",
       "      <th>sepal width (cm)</th>\n",
       "      <th>petal length (cm)</th>\n",
       "      <th>petal width (cm)</th>\n",
       "      <th>target</th>\n",
       "    </tr>\n",
       "  </thead>\n",
       "  <tbody>\n",
       "    <tr>\n",
       "      <th>0</th>\n",
       "      <td>5.1</td>\n",
       "      <td>3.5</td>\n",
       "      <td>1.4</td>\n",
       "      <td>0.2</td>\n",
       "      <td>0</td>\n",
       "    </tr>\n",
       "    <tr>\n",
       "      <th>1</th>\n",
       "      <td>4.9</td>\n",
       "      <td>3.0</td>\n",
       "      <td>1.4</td>\n",
       "      <td>0.2</td>\n",
       "      <td>0</td>\n",
       "    </tr>\n",
       "    <tr>\n",
       "      <th>2</th>\n",
       "      <td>4.7</td>\n",
       "      <td>3.2</td>\n",
       "      <td>1.3</td>\n",
       "      <td>0.2</td>\n",
       "      <td>0</td>\n",
       "    </tr>\n",
       "    <tr>\n",
       "      <th>3</th>\n",
       "      <td>4.6</td>\n",
       "      <td>3.1</td>\n",
       "      <td>1.5</td>\n",
       "      <td>0.2</td>\n",
       "      <td>0</td>\n",
       "    </tr>\n",
       "    <tr>\n",
       "      <th>4</th>\n",
       "      <td>5.0</td>\n",
       "      <td>3.6</td>\n",
       "      <td>1.4</td>\n",
       "      <td>0.2</td>\n",
       "      <td>0</td>\n",
       "    </tr>\n",
       "    <tr>\n",
       "      <th>...</th>\n",
       "      <td>...</td>\n",
       "      <td>...</td>\n",
       "      <td>...</td>\n",
       "      <td>...</td>\n",
       "      <td>...</td>\n",
       "    </tr>\n",
       "    <tr>\n",
       "      <th>145</th>\n",
       "      <td>6.7</td>\n",
       "      <td>3.0</td>\n",
       "      <td>5.2</td>\n",
       "      <td>2.3</td>\n",
       "      <td>2</td>\n",
       "    </tr>\n",
       "    <tr>\n",
       "      <th>146</th>\n",
       "      <td>6.3</td>\n",
       "      <td>2.5</td>\n",
       "      <td>5.0</td>\n",
       "      <td>1.9</td>\n",
       "      <td>2</td>\n",
       "    </tr>\n",
       "    <tr>\n",
       "      <th>147</th>\n",
       "      <td>6.5</td>\n",
       "      <td>3.0</td>\n",
       "      <td>5.2</td>\n",
       "      <td>2.0</td>\n",
       "      <td>2</td>\n",
       "    </tr>\n",
       "    <tr>\n",
       "      <th>148</th>\n",
       "      <td>6.2</td>\n",
       "      <td>3.4</td>\n",
       "      <td>5.4</td>\n",
       "      <td>2.3</td>\n",
       "      <td>2</td>\n",
       "    </tr>\n",
       "    <tr>\n",
       "      <th>149</th>\n",
       "      <td>5.9</td>\n",
       "      <td>3.0</td>\n",
       "      <td>5.1</td>\n",
       "      <td>1.8</td>\n",
       "      <td>2</td>\n",
       "    </tr>\n",
       "  </tbody>\n",
       "</table>\n",
       "<p>150 rows × 5 columns</p>\n",
       "</div>"
      ],
      "text/plain": [
       "     sepal length (cm)  sepal width (cm)  petal length (cm)  petal width (cm)  \\\n",
       "0                  5.1               3.5                1.4               0.2   \n",
       "1                  4.9               3.0                1.4               0.2   \n",
       "2                  4.7               3.2                1.3               0.2   \n",
       "3                  4.6               3.1                1.5               0.2   \n",
       "4                  5.0               3.6                1.4               0.2   \n",
       "..                 ...               ...                ...               ...   \n",
       "145                6.7               3.0                5.2               2.3   \n",
       "146                6.3               2.5                5.0               1.9   \n",
       "147                6.5               3.0                5.2               2.0   \n",
       "148                6.2               3.4                5.4               2.3   \n",
       "149                5.9               3.0                5.1               1.8   \n",
       "\n",
       "     target  \n",
       "0         0  \n",
       "1         0  \n",
       "2         0  \n",
       "3         0  \n",
       "4         0  \n",
       "..      ...  \n",
       "145       2  \n",
       "146       2  \n",
       "147       2  \n",
       "148       2  \n",
       "149       2  \n",
       "\n",
       "[150 rows x 5 columns]"
      ]
     },
     "execution_count": 3,
     "metadata": {},
     "output_type": "execute_result"
    }
   ],
   "source": [
    "from sklearn.datasets import load_iris\n",
    "import pandas as pd\n",
    "iris = load_iris()\n",
    "df = pd.DataFrame(iris.data, columns=iris.feature_names)\n",
    "df['target']=iris['target']\n",
    "df"
   ]
  },
  {
   "cell_type": "markdown",
   "id": "74fd0e7a",
   "metadata": {},
   "source": [
    "De este dataframe, se dividirán los datos de entrenamiento y de prueba. \n",
    "\n",
    "En este caso, un 75% de los datos serán de entrenamiento y el 25% restante serán de test. \n",
    "\n",
    "*X* representa las características del conjunto de datos\n",
    "\n",
    "*y* representa las etiquetas del conjunto de datos.\n",
    "\n",
    "random_state=1 para proporcionar una semilla para la generación de números aleatorios. De esta manera, la división no es la misma cada vez que se ejecute la función, lo que asegura que la división sea reproducible.\n",
    "\n"
   ]
  },
  {
   "cell_type": "code",
   "execution_count": 4,
   "id": "75f20520",
   "metadata": {},
   "outputs": [],
   "source": [
    "from sklearn.model_selection import train_test_split\n",
    "X, y = df.values[:,0:4], df.values[:,4]\n",
    "X_train, X_test, y_train, y_test =train_test_split(X, y, test_size=0.25, random_state=1, stratify=y)"
   ]
  },
  {
   "cell_type": "markdown",
   "id": "cffbf6df",
   "metadata": {},
   "source": [
    "Se hace el ajuste de los datos de entrenamiento usando el clasificador Näive-Bayes"
   ]
  },
  {
   "cell_type": "code",
   "execution_count": 5,
   "id": "e2dfe07d",
   "metadata": {},
   "outputs": [
    {
     "data": {
      "text/plain": [
       "GaussianNB()"
      ]
     },
     "execution_count": 5,
     "metadata": {},
     "output_type": "execute_result"
    }
   ],
   "source": [
    "from sklearn.naive_bayes import GaussianNB\n",
    "clf_NB = GaussianNB()\n",
    "clf_NB.fit(X_train, y_train)"
   ]
  },
  {
   "cell_type": "markdown",
   "id": "138fdfa3",
   "metadata": {},
   "source": [
    "Creamos la matriz de confusión. En este caso, los posibles resultados podían ser 0, 1 y 2 (columna *target*) --> setosa, versicolor, virginica (columna *target_names*). Por lo tanto, la matriz de resultado no sería una matriz 2x2 convencional, sino una 3x3."
   ]
  },
  {
   "cell_type": "code",
   "execution_count": 6,
   "id": "03b8fcad",
   "metadata": {},
   "outputs": [
    {
     "name": "stderr",
     "output_type": "stream",
     "text": [
      "C:\\Users\\aldai\\anaconda3\\lib\\site-packages\\sklearn\\utils\\deprecation.py:87: FutureWarning: Function plot_confusion_matrix is deprecated; Function `plot_confusion_matrix` is deprecated in 1.0 and will be removed in 1.2. Use one of the class methods: ConfusionMatrixDisplay.from_predictions or ConfusionMatrixDisplay.from_estimator.\n",
      "  warnings.warn(msg, category=FutureWarning)\n"
     ]
    },
    {
     "data": {
      "text/plain": [
       "<sklearn.metrics._plot.confusion_matrix.ConfusionMatrixDisplay at 0x20dfcae57f0>"
      ]
     },
     "execution_count": 6,
     "metadata": {},
     "output_type": "execute_result"
    },
    {
     "data": {
      "image/png": "[encoded data removed]",
      "text/plain": [
       "<Figure size 432x288 with 2 Axes>"
      ]
     },
     "metadata": {
      "needs_background": "light"
     },
     "output_type": "display_data"
    }
   ],
   "source": [
    "from sklearn.metrics import plot_confusion_matrix\n",
    "classNames = iris['target_names']\n",
    "plot_confusion_matrix(clf_NB, X_test, y_test, display_labels=classNames)  "
   ]
  },
  {
   "cell_type": "markdown",
   "id": "9a0d8aa5",
   "metadata": {},
   "source": [
    "Calculamos la puntuación de la clasificación para saber si ha tenido un nivel de precisión alto o no. Para ello, predecimos primero los valores de y (*y_pred*), porque antes todavía no se habían predicho."
   ]
  },
  {
   "cell_type": "code",
   "execution_count": 7,
   "id": "386428e4",
   "metadata": {},
   "outputs": [
    {
     "name": "stdout",
     "output_type": "stream",
     "text": [
      "[2. 0. 0. 0. 1. 0. 1. 1. 0. 1. 2. 2. 2. 1. 2. 1. 2. 1. 1. 1. 1. 2. 2. 1.\n",
      " 0. 0. 0. 1. 2. 0. 0. 2. 1. 0. 0. 1. 2. 2.]\n",
      "[2. 0. 0. 0. 1. 0. 1. 2. 0. 1. 2. 2. 2. 1. 2. 1. 2. 1. 1. 1. 1. 2. 2. 1.\n",
      " 0. 0. 0. 1. 2. 0. 0. 2. 1. 0. 0. 1. 2. 2.]\n"
     ]
    }
   ],
   "source": [
    "y_pred = clf_NB.predict(X_test)\n",
    "print(y_pred)\n",
    "print(y_test)"
   ]
  },
  {
   "cell_type": "markdown",
   "id": "109b35c3",
   "metadata": {},
   "source": [
    "Ahora si podemos calcular el nivel de acierto de la clasificación. Para ello, se usan varios ratios."
   ]
  },
  {
   "cell_type": "code",
   "execution_count": 10,
   "id": "44d0f12f",
   "metadata": {},
   "outputs": [
    {
     "name": "stdout",
     "output_type": "stream",
     "text": [
      "Exactitud - Accuracy: 0.974\n",
      "Precision: 0.974\n",
      "Sensibilidad - Recall: 0.974\n",
      "F1: 0.974\n"
     ]
    }
   ],
   "source": [
    "from sklearn.metrics import accuracy_score\n",
    "from sklearn.metrics import precision_score\n",
    "from sklearn.metrics import recall_score, f1_score\n",
    "print('Exactitud - Accuracy: %.3f' % accuracy_score(y_true=y_test, y_pred=y_pred))\n",
    "print('Precision: %.3f' % precision_score(y_true=y_test, y_pred=y_pred, average='micro'))\n",
    "print('Sensibilidad - Recall: %.3f' % recall_score(y_true=y_test, y_pred=y_pred, average='micro'))\n",
    "print('F1: %.3f' % f1_score(y_true=y_test, y_pred=y_pred, average='micro'))"
   ]
  },
  {
   "cell_type": "markdown",
   "id": "05b2996f",
   "metadata": {},
   "source": [
    "Como todos los indicadores tienen el mismo valor, entonces podemos escoger cualquiera. En este caso, escogemos el indicador de Exactitud - Accuracy."
   ]
  },
  {
   "cell_type": "code",
   "execution_count": 11,
   "id": "9c1f9cc1",
   "metadata": {},
   "outputs": [
    {
     "name": "stdout",
     "output_type": "stream",
     "text": [
      "Exactitud - Accuracy: 0.974\n"
     ]
    }
   ],
   "source": [
    "from sklearn.metrics import accuracy_score\n",
    "print('Exactitud - Accuracy: %.3f' % accuracy_score(y_true=y_test, y_pred=y_pred))"
   ]
  },
  {
   "cell_type": "markdown",
   "id": "adb1abfa",
   "metadata": {},
   "source": [
    "También podemos evaluar el nivel de nuestro clasificador, para saber si le clasificador que hemos escogido es el adecuado o no, o por lo tanto, probar otros tipos de clasificadores que nos den mejores resultados. Esto lo haremos mediante el cálculo del p-valor, es decir, la fracción de los datos aleatorios donde el rendimiento del clasificador es mejor que el original. Para calcularlo, se usará la técnica de **Bootstraping**, es decir, realizar una serie de muestras donde, en cada una, se crea un conjunto de datos aleatorio nuevo con respecto al original.\n"
   ]
  },
  {
   "cell_type": "markdown",
   "id": "fc3cca0d",
   "metadata": {},
   "source": [
    "Primero calculamos la precisión inicial."
   ]
  },
  {
   "cell_type": "code",
   "execution_count": 14,
   "id": "c3ad4622",
   "metadata": {},
   "outputs": [
    {
     "name": "stdout",
     "output_type": "stream",
     "text": [
      "Exactitud - Accuracy Inicial: 0.974\n"
     ]
    }
   ],
   "source": [
    "## Entrenamiento inicial y toma del ACC\n",
    "from sklearn.naive_bayes import GaussianNB\n",
    "from sklearn.metrics import accuracy_score\n",
    "clf_NB = GaussianNB()\n",
    "clf_NB.fit(X_train, y_train)\n",
    "y_pred=clf_NB.predict(X_test)\n",
    "ACC_Ini = accuracy_score(y_true=y_test, y_pred=y_pred)\n",
    "print('Exactitud - Accuracy Inicial: %.3f' % ACC_Ini)"
   ]
  },
  {
   "cell_type": "markdown",
   "id": "1ccc75af",
   "metadata": {},
   "source": [
    "Luego calculamos la precisión en cada muestra, en este caso, 100 muestras, y se compara con el original. Si la precisión de la muestra es mayor que la original, se incrementa su contador (*Cont*).\n",
    "\n",
    "Para que el cálculo sea válido, es necesario que en cada muestra, el subconjunto de entrenamiento debe ser diferente en cada una. Para ello, se generan índices aleatorios en cada muestra para generar subconjuntos diferentes. Los índices se pueden repetir. \n",
    "\n",
    "En este caso, el p-valor es muy pequeño, por lo tanto, podemos concluir que la precisión inicial es mejor que la gran mayoría de las precisiones calculadas en las muestras. Por lo tanto, nuestro clasificador no ha dado predicciones correctas por pura suerte, anulando así la hipótesis nula. "
   ]
  },
  {
   "cell_type": "code",
   "execution_count": 22,
   "id": "34a81634",
   "metadata": {},
   "outputs": [
    {
     "data": {
      "text/plain": [
       "(0.009900990099009901, 0)"
      ]
     },
     "execution_count": 22,
     "metadata": {},
     "output_type": "execute_result"
    }
   ],
   "source": [
    "import numpy as np\n",
    "## Hacemos el entrenamiento de los clasificadores\n",
    "NumRepeticiones = 100 # hacemos 100 muestras con bootstrap\n",
    "NumMuestras = X_train.shape[0] # el número de muestras totales en X_train\n",
    "indices = np.arange(X_train.shape[0]) # un listado con los índices de X_train 1,2,...,NumMuestras\n",
    "clf_Boot = GaussianNB()\n",
    "Cont = 0\n",
    "\n",
    "i=0\n",
    "\n",
    "for rep in np.arange(NumRepeticiones):\n",
    "    indicesNew = np.random.choice(indices,NumMuestras,replace=True) #nuevos indices cogidos al azar\n",
    "    X_train_Boot = X_train[indicesNew] # tomamos los datos X de esos indices\n",
    "    y_train_Boot = y_train[indicesNew] # y sus categorías\n",
    "    '''\n",
    "    Usado para mostrar los indices y conjuntos X e y escogidos en las 2 primeras muestras \n",
    "    if i<2: \n",
    "        print(indicesNew)\n",
    "        print(X_train_Boot)\n",
    "        print(y_train_Boot)\n",
    "    '''\n",
    "    clf_Boot.fit(X_train_Boot, y_train_Boot)\n",
    "    \n",
    "    i+=1\n",
    "    \n",
    "    if clf_Boot.score(X_test, y_test) > ACC_Ini:\n",
    "        Cont +=1\n",
    "\n",
    "p_valor = (Cont+1)/(NumRepeticiones + 1)\n",
    "p_valor, Cont"
   ]
  }
 ],
 "metadata": {
  "kernelspec": {
   "display_name": "Python 3 (ipykernel)",
   "language": "python",
   "name": "python3"
  },
  "language_info": {
   "codemirror_mode": {
    "name": "ipython",
    "version": 3
   },
   "file_extension": ".py",
   "mimetype": "text/x-python",
   "name": "python",
   "nbconvert_exporter": "python",
   "pygments_lexer": "ipython3",
   "version": "3.9.12"
  }
 },
 "nbformat": 4,
 "nbformat_minor": 5
}
